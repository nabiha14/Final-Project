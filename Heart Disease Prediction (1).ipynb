{
 "cells": [
  {
   "cell_type": "markdown",
   "id": "37c88c9d",
   "metadata": {},
   "source": [
    "# HEART DISEASE PREDICTION"
   ]
  },
  {
   "cell_type": "markdown",
   "id": "2555afe1",
   "metadata": {},
   "source": [
    "### Heart Disease Dataset:\n",
    "\n",
    "Dataset link: https://www.kaggle.com/datasets/johnsmith88/heart-disease-dataset?fbclid=IwAR0tTbT-K7K1p4LiziyAmrnNOiudZSBTmEhrSXpkBgoIEDcCgp-MbOIsFRU"
   ]
  },
  {
   "cell_type": "markdown",
   "id": "aa6c67a4",
   "metadata": {},
   "source": [
    "### Details About Dataset:\n",
    "\n",
    "1)age                                                                                                                       \n",
    "2)sex                                                                                                                       \n",
    "3)chest pain type (4 values)                                                                                               \n",
    "    1)typical angina                                       \n",
    "    2)atypical angina                                           \n",
    "    3)non-anginal pain                                                        \n",
    "    4)asymptomatic                                                           \n",
    "4)resting blood pressure                                      \n",
    "5)serum cholestoral in mg/dl                                               \n",
    "6)fasting blood sugar > 120 mg/dl (1=true;0=false)                                                               \n",
    "7)resting electrocardiographic results (values 0,1,2) (0=normal,1=abnormal,2=showing probable or definite left ventricular hypertrophy                                                    \n",
    "8)maximum heart rate achieved                                                            \n",
    "9)exercise induced angina(1=yes,0=No)                                                \n",
    "10)oldpeak = ST depression induced by exercise relative to rest                                                 \n",
    "11)the slope of the peak exercise ST segment (1=upsloping,2=flat,3=downsloping)                                      \n",
    "12)number of major vessels (0-3) colored by flourosopy                                                       \n",
    "13)thal: 0 = normal; 1 = fixed defect; 2 = reversable defect                                                  \n",
    "14)target: Heart Disease(0=No , 1=Yes)                                                  "
   ]
  },
  {
   "cell_type": "markdown",
   "id": "2e7b5db3",
   "metadata": {},
   "source": [
    "## Importing Libraries"
   ]
  },
  {
   "cell_type": "code",
   "execution_count": 1,
   "id": "47991611",
   "metadata": {},
   "outputs": [],
   "source": [
    "import numpy as np\n",
    "import pandas as pd\n",
    "import matplotlib.pyplot as plt\n",
    "import seaborn as sns\n",
    "from sklearn.model_selection import train_test_split\n",
    "from sklearn.linear_model import LogisticRegression\n",
    "from sklearn.metrics import accuracy_score\n",
    "from sklearn.metrics import confusion_matrix"
   ]
  },
  {
   "cell_type": "markdown",
   "id": "c9f296e5",
   "metadata": {},
   "source": [
    "### Importing csv file of dataset"
   ]
  },
  {
   "cell_type": "code",
   "execution_count": 2,
   "id": "4b573adf",
   "metadata": {},
   "outputs": [],
   "source": [
    "data=pd.read_csv('heart.csv')"
   ]
  },
  {
   "cell_type": "markdown",
   "id": "a80e4ff7",
   "metadata": {},
   "source": [
    "## Exploratory Data Analysis (EDA):\n"
   ]
  },
  {
   "cell_type": "markdown",
   "id": "1ad2f33f",
   "metadata": {},
   "source": [
    "### 1) Understanding the Data:"
   ]
  },
  {
   "cell_type": "code",
   "execution_count": 3,
   "id": "3d1ce1f0",
   "metadata": {},
   "outputs": [
    {
     "data": {
      "text/html": [
       "<div>\n",
       "<style scoped>\n",
       "    .dataframe tbody tr th:only-of-type {\n",
       "        vertical-align: middle;\n",
       "    }\n",
       "\n",
       "    .dataframe tbody tr th {\n",
       "        vertical-align: top;\n",
       "    }\n",
       "\n",
       "    .dataframe thead th {\n",
       "        text-align: right;\n",
       "    }\n",
       "</style>\n",
       "<table border=\"1\" class=\"dataframe\">\n",
       "  <thead>\n",
       "    <tr style=\"text-align: right;\">\n",
       "      <th></th>\n",
       "      <th>age</th>\n",
       "      <th>sex</th>\n",
       "      <th>cp</th>\n",
       "      <th>trestbps</th>\n",
       "      <th>chol</th>\n",
       "      <th>fbs</th>\n",
       "      <th>restecg</th>\n",
       "      <th>thalach</th>\n",
       "      <th>exang</th>\n",
       "      <th>oldpeak</th>\n",
       "      <th>slope</th>\n",
       "      <th>ca</th>\n",
       "      <th>thal</th>\n",
       "      <th>target</th>\n",
       "    </tr>\n",
       "  </thead>\n",
       "  <tbody>\n",
       "    <tr>\n",
       "      <th>0</th>\n",
       "      <td>52</td>\n",
       "      <td>1</td>\n",
       "      <td>0</td>\n",
       "      <td>125</td>\n",
       "      <td>212</td>\n",
       "      <td>0</td>\n",
       "      <td>1</td>\n",
       "      <td>168</td>\n",
       "      <td>0</td>\n",
       "      <td>1.0</td>\n",
       "      <td>2</td>\n",
       "      <td>2</td>\n",
       "      <td>3</td>\n",
       "      <td>0</td>\n",
       "    </tr>\n",
       "    <tr>\n",
       "      <th>1</th>\n",
       "      <td>53</td>\n",
       "      <td>1</td>\n",
       "      <td>0</td>\n",
       "      <td>140</td>\n",
       "      <td>203</td>\n",
       "      <td>1</td>\n",
       "      <td>0</td>\n",
       "      <td>155</td>\n",
       "      <td>1</td>\n",
       "      <td>3.1</td>\n",
       "      <td>0</td>\n",
       "      <td>0</td>\n",
       "      <td>3</td>\n",
       "      <td>0</td>\n",
       "    </tr>\n",
       "    <tr>\n",
       "      <th>2</th>\n",
       "      <td>70</td>\n",
       "      <td>1</td>\n",
       "      <td>0</td>\n",
       "      <td>145</td>\n",
       "      <td>174</td>\n",
       "      <td>0</td>\n",
       "      <td>1</td>\n",
       "      <td>125</td>\n",
       "      <td>1</td>\n",
       "      <td>2.6</td>\n",
       "      <td>0</td>\n",
       "      <td>0</td>\n",
       "      <td>3</td>\n",
       "      <td>0</td>\n",
       "    </tr>\n",
       "    <tr>\n",
       "      <th>3</th>\n",
       "      <td>61</td>\n",
       "      <td>1</td>\n",
       "      <td>0</td>\n",
       "      <td>148</td>\n",
       "      <td>203</td>\n",
       "      <td>0</td>\n",
       "      <td>1</td>\n",
       "      <td>161</td>\n",
       "      <td>0</td>\n",
       "      <td>0.0</td>\n",
       "      <td>2</td>\n",
       "      <td>1</td>\n",
       "      <td>3</td>\n",
       "      <td>0</td>\n",
       "    </tr>\n",
       "    <tr>\n",
       "      <th>4</th>\n",
       "      <td>62</td>\n",
       "      <td>0</td>\n",
       "      <td>0</td>\n",
       "      <td>138</td>\n",
       "      <td>294</td>\n",
       "      <td>1</td>\n",
       "      <td>1</td>\n",
       "      <td>106</td>\n",
       "      <td>0</td>\n",
       "      <td>1.9</td>\n",
       "      <td>1</td>\n",
       "      <td>3</td>\n",
       "      <td>2</td>\n",
       "      <td>0</td>\n",
       "    </tr>\n",
       "  </tbody>\n",
       "</table>\n",
       "</div>"
      ],
      "text/plain": [
       "   age  sex  cp  trestbps  chol  fbs  restecg  thalach  exang  oldpeak  slope  \\\n",
       "0   52    1   0       125   212    0        1      168      0      1.0      2   \n",
       "1   53    1   0       140   203    1        0      155      1      3.1      0   \n",
       "2   70    1   0       145   174    0        1      125      1      2.6      0   \n",
       "3   61    1   0       148   203    0        1      161      0      0.0      2   \n",
       "4   62    0   0       138   294    1        1      106      0      1.9      1   \n",
       "\n",
       "   ca  thal  target  \n",
       "0   2     3       0  \n",
       "1   0     3       0  \n",
       "2   0     3       0  \n",
       "3   1     3       0  \n",
       "4   3     2       0  "
      ]
     },
     "execution_count": 3,
     "metadata": {},
     "output_type": "execute_result"
    }
   ],
   "source": [
    "data.head() # Displays top 5 rows of dataset"
   ]
  },
  {
   "cell_type": "code",
   "execution_count": 4,
   "id": "96538de8",
   "metadata": {},
   "outputs": [
    {
     "data": {
      "text/html": [
       "<div>\n",
       "<style scoped>\n",
       "    .dataframe tbody tr th:only-of-type {\n",
       "        vertical-align: middle;\n",
       "    }\n",
       "\n",
       "    .dataframe tbody tr th {\n",
       "        vertical-align: top;\n",
       "    }\n",
       "\n",
       "    .dataframe thead th {\n",
       "        text-align: right;\n",
       "    }\n",
       "</style>\n",
       "<table border=\"1\" class=\"dataframe\">\n",
       "  <thead>\n",
       "    <tr style=\"text-align: right;\">\n",
       "      <th></th>\n",
       "      <th>age</th>\n",
       "      <th>sex</th>\n",
       "      <th>cp</th>\n",
       "      <th>trestbps</th>\n",
       "      <th>chol</th>\n",
       "      <th>fbs</th>\n",
       "      <th>restecg</th>\n",
       "      <th>thalach</th>\n",
       "      <th>exang</th>\n",
       "      <th>oldpeak</th>\n",
       "      <th>slope</th>\n",
       "      <th>ca</th>\n",
       "      <th>thal</th>\n",
       "      <th>target</th>\n",
       "    </tr>\n",
       "  </thead>\n",
       "  <tbody>\n",
       "    <tr>\n",
       "      <th>1020</th>\n",
       "      <td>59</td>\n",
       "      <td>1</td>\n",
       "      <td>1</td>\n",
       "      <td>140</td>\n",
       "      <td>221</td>\n",
       "      <td>0</td>\n",
       "      <td>1</td>\n",
       "      <td>164</td>\n",
       "      <td>1</td>\n",
       "      <td>0.0</td>\n",
       "      <td>2</td>\n",
       "      <td>0</td>\n",
       "      <td>2</td>\n",
       "      <td>1</td>\n",
       "    </tr>\n",
       "    <tr>\n",
       "      <th>1021</th>\n",
       "      <td>60</td>\n",
       "      <td>1</td>\n",
       "      <td>0</td>\n",
       "      <td>125</td>\n",
       "      <td>258</td>\n",
       "      <td>0</td>\n",
       "      <td>0</td>\n",
       "      <td>141</td>\n",
       "      <td>1</td>\n",
       "      <td>2.8</td>\n",
       "      <td>1</td>\n",
       "      <td>1</td>\n",
       "      <td>3</td>\n",
       "      <td>0</td>\n",
       "    </tr>\n",
       "    <tr>\n",
       "      <th>1022</th>\n",
       "      <td>47</td>\n",
       "      <td>1</td>\n",
       "      <td>0</td>\n",
       "      <td>110</td>\n",
       "      <td>275</td>\n",
       "      <td>0</td>\n",
       "      <td>0</td>\n",
       "      <td>118</td>\n",
       "      <td>1</td>\n",
       "      <td>1.0</td>\n",
       "      <td>1</td>\n",
       "      <td>1</td>\n",
       "      <td>2</td>\n",
       "      <td>0</td>\n",
       "    </tr>\n",
       "    <tr>\n",
       "      <th>1023</th>\n",
       "      <td>50</td>\n",
       "      <td>0</td>\n",
       "      <td>0</td>\n",
       "      <td>110</td>\n",
       "      <td>254</td>\n",
       "      <td>0</td>\n",
       "      <td>0</td>\n",
       "      <td>159</td>\n",
       "      <td>0</td>\n",
       "      <td>0.0</td>\n",
       "      <td>2</td>\n",
       "      <td>0</td>\n",
       "      <td>2</td>\n",
       "      <td>1</td>\n",
       "    </tr>\n",
       "    <tr>\n",
       "      <th>1024</th>\n",
       "      <td>54</td>\n",
       "      <td>1</td>\n",
       "      <td>0</td>\n",
       "      <td>120</td>\n",
       "      <td>188</td>\n",
       "      <td>0</td>\n",
       "      <td>1</td>\n",
       "      <td>113</td>\n",
       "      <td>0</td>\n",
       "      <td>1.4</td>\n",
       "      <td>1</td>\n",
       "      <td>1</td>\n",
       "      <td>3</td>\n",
       "      <td>0</td>\n",
       "    </tr>\n",
       "  </tbody>\n",
       "</table>\n",
       "</div>"
      ],
      "text/plain": [
       "      age  sex  cp  trestbps  chol  fbs  restecg  thalach  exang  oldpeak  \\\n",
       "1020   59    1   1       140   221    0        1      164      1      0.0   \n",
       "1021   60    1   0       125   258    0        0      141      1      2.8   \n",
       "1022   47    1   0       110   275    0        0      118      1      1.0   \n",
       "1023   50    0   0       110   254    0        0      159      0      0.0   \n",
       "1024   54    1   0       120   188    0        1      113      0      1.4   \n",
       "\n",
       "      slope  ca  thal  target  \n",
       "1020      2   0     2       1  \n",
       "1021      1   1     3       0  \n",
       "1022      1   1     2       0  \n",
       "1023      2   0     2       1  \n",
       "1024      1   1     3       0  "
      ]
     },
     "execution_count": 4,
     "metadata": {},
     "output_type": "execute_result"
    }
   ],
   "source": [
    "data.tail() # Displays last 5 rows of dataset"
   ]
  },
  {
   "cell_type": "code",
   "execution_count": 5,
   "id": "4e10915a",
   "metadata": {},
   "outputs": [
    {
     "data": {
      "text/plain": [
       "(1025, 14)"
      ]
     },
     "execution_count": 5,
     "metadata": {},
     "output_type": "execute_result"
    }
   ],
   "source": [
    "data.shape # shows total no of rows and columns"
   ]
  },
  {
   "cell_type": "code",
   "execution_count": 6,
   "id": "6afd7bb9",
   "metadata": {},
   "outputs": [
    {
     "data": {
      "text/html": [
       "<div>\n",
       "<style scoped>\n",
       "    .dataframe tbody tr th:only-of-type {\n",
       "        vertical-align: middle;\n",
       "    }\n",
       "\n",
       "    .dataframe tbody tr th {\n",
       "        vertical-align: top;\n",
       "    }\n",
       "\n",
       "    .dataframe thead th {\n",
       "        text-align: right;\n",
       "    }\n",
       "</style>\n",
       "<table border=\"1\" class=\"dataframe\">\n",
       "  <thead>\n",
       "    <tr style=\"text-align: right;\">\n",
       "      <th></th>\n",
       "      <th>age</th>\n",
       "      <th>sex</th>\n",
       "      <th>cp</th>\n",
       "      <th>trestbps</th>\n",
       "      <th>chol</th>\n",
       "      <th>fbs</th>\n",
       "      <th>restecg</th>\n",
       "      <th>thalach</th>\n",
       "      <th>exang</th>\n",
       "      <th>oldpeak</th>\n",
       "      <th>slope</th>\n",
       "      <th>ca</th>\n",
       "      <th>thal</th>\n",
       "      <th>target</th>\n",
       "    </tr>\n",
       "  </thead>\n",
       "  <tbody>\n",
       "    <tr>\n",
       "      <th>count</th>\n",
       "      <td>1025.000000</td>\n",
       "      <td>1025.000000</td>\n",
       "      <td>1025.000000</td>\n",
       "      <td>1025.000000</td>\n",
       "      <td>1025.00000</td>\n",
       "      <td>1025.000000</td>\n",
       "      <td>1025.000000</td>\n",
       "      <td>1025.000000</td>\n",
       "      <td>1025.000000</td>\n",
       "      <td>1025.000000</td>\n",
       "      <td>1025.000000</td>\n",
       "      <td>1025.000000</td>\n",
       "      <td>1025.000000</td>\n",
       "      <td>1025.000000</td>\n",
       "    </tr>\n",
       "    <tr>\n",
       "      <th>mean</th>\n",
       "      <td>54.434146</td>\n",
       "      <td>0.695610</td>\n",
       "      <td>0.942439</td>\n",
       "      <td>131.611707</td>\n",
       "      <td>246.00000</td>\n",
       "      <td>0.149268</td>\n",
       "      <td>0.529756</td>\n",
       "      <td>149.114146</td>\n",
       "      <td>0.336585</td>\n",
       "      <td>1.071512</td>\n",
       "      <td>1.385366</td>\n",
       "      <td>0.754146</td>\n",
       "      <td>2.323902</td>\n",
       "      <td>0.513171</td>\n",
       "    </tr>\n",
       "    <tr>\n",
       "      <th>std</th>\n",
       "      <td>9.072290</td>\n",
       "      <td>0.460373</td>\n",
       "      <td>1.029641</td>\n",
       "      <td>17.516718</td>\n",
       "      <td>51.59251</td>\n",
       "      <td>0.356527</td>\n",
       "      <td>0.527878</td>\n",
       "      <td>23.005724</td>\n",
       "      <td>0.472772</td>\n",
       "      <td>1.175053</td>\n",
       "      <td>0.617755</td>\n",
       "      <td>1.030798</td>\n",
       "      <td>0.620660</td>\n",
       "      <td>0.500070</td>\n",
       "    </tr>\n",
       "    <tr>\n",
       "      <th>min</th>\n",
       "      <td>29.000000</td>\n",
       "      <td>0.000000</td>\n",
       "      <td>0.000000</td>\n",
       "      <td>94.000000</td>\n",
       "      <td>126.00000</td>\n",
       "      <td>0.000000</td>\n",
       "      <td>0.000000</td>\n",
       "      <td>71.000000</td>\n",
       "      <td>0.000000</td>\n",
       "      <td>0.000000</td>\n",
       "      <td>0.000000</td>\n",
       "      <td>0.000000</td>\n",
       "      <td>0.000000</td>\n",
       "      <td>0.000000</td>\n",
       "    </tr>\n",
       "    <tr>\n",
       "      <th>25%</th>\n",
       "      <td>48.000000</td>\n",
       "      <td>0.000000</td>\n",
       "      <td>0.000000</td>\n",
       "      <td>120.000000</td>\n",
       "      <td>211.00000</td>\n",
       "      <td>0.000000</td>\n",
       "      <td>0.000000</td>\n",
       "      <td>132.000000</td>\n",
       "      <td>0.000000</td>\n",
       "      <td>0.000000</td>\n",
       "      <td>1.000000</td>\n",
       "      <td>0.000000</td>\n",
       "      <td>2.000000</td>\n",
       "      <td>0.000000</td>\n",
       "    </tr>\n",
       "    <tr>\n",
       "      <th>50%</th>\n",
       "      <td>56.000000</td>\n",
       "      <td>1.000000</td>\n",
       "      <td>1.000000</td>\n",
       "      <td>130.000000</td>\n",
       "      <td>240.00000</td>\n",
       "      <td>0.000000</td>\n",
       "      <td>1.000000</td>\n",
       "      <td>152.000000</td>\n",
       "      <td>0.000000</td>\n",
       "      <td>0.800000</td>\n",
       "      <td>1.000000</td>\n",
       "      <td>0.000000</td>\n",
       "      <td>2.000000</td>\n",
       "      <td>1.000000</td>\n",
       "    </tr>\n",
       "    <tr>\n",
       "      <th>75%</th>\n",
       "      <td>61.000000</td>\n",
       "      <td>1.000000</td>\n",
       "      <td>2.000000</td>\n",
       "      <td>140.000000</td>\n",
       "      <td>275.00000</td>\n",
       "      <td>0.000000</td>\n",
       "      <td>1.000000</td>\n",
       "      <td>166.000000</td>\n",
       "      <td>1.000000</td>\n",
       "      <td>1.800000</td>\n",
       "      <td>2.000000</td>\n",
       "      <td>1.000000</td>\n",
       "      <td>3.000000</td>\n",
       "      <td>1.000000</td>\n",
       "    </tr>\n",
       "    <tr>\n",
       "      <th>max</th>\n",
       "      <td>77.000000</td>\n",
       "      <td>1.000000</td>\n",
       "      <td>3.000000</td>\n",
       "      <td>200.000000</td>\n",
       "      <td>564.00000</td>\n",
       "      <td>1.000000</td>\n",
       "      <td>2.000000</td>\n",
       "      <td>202.000000</td>\n",
       "      <td>1.000000</td>\n",
       "      <td>6.200000</td>\n",
       "      <td>2.000000</td>\n",
       "      <td>4.000000</td>\n",
       "      <td>3.000000</td>\n",
       "      <td>1.000000</td>\n",
       "    </tr>\n",
       "  </tbody>\n",
       "</table>\n",
       "</div>"
      ],
      "text/plain": [
       "               age          sex           cp     trestbps        chol  \\\n",
       "count  1025.000000  1025.000000  1025.000000  1025.000000  1025.00000   \n",
       "mean     54.434146     0.695610     0.942439   131.611707   246.00000   \n",
       "std       9.072290     0.460373     1.029641    17.516718    51.59251   \n",
       "min      29.000000     0.000000     0.000000    94.000000   126.00000   \n",
       "25%      48.000000     0.000000     0.000000   120.000000   211.00000   \n",
       "50%      56.000000     1.000000     1.000000   130.000000   240.00000   \n",
       "75%      61.000000     1.000000     2.000000   140.000000   275.00000   \n",
       "max      77.000000     1.000000     3.000000   200.000000   564.00000   \n",
       "\n",
       "               fbs      restecg      thalach        exang      oldpeak  \\\n",
       "count  1025.000000  1025.000000  1025.000000  1025.000000  1025.000000   \n",
       "mean      0.149268     0.529756   149.114146     0.336585     1.071512   \n",
       "std       0.356527     0.527878    23.005724     0.472772     1.175053   \n",
       "min       0.000000     0.000000    71.000000     0.000000     0.000000   \n",
       "25%       0.000000     0.000000   132.000000     0.000000     0.000000   \n",
       "50%       0.000000     1.000000   152.000000     0.000000     0.800000   \n",
       "75%       0.000000     1.000000   166.000000     1.000000     1.800000   \n",
       "max       1.000000     2.000000   202.000000     1.000000     6.200000   \n",
       "\n",
       "             slope           ca         thal       target  \n",
       "count  1025.000000  1025.000000  1025.000000  1025.000000  \n",
       "mean      1.385366     0.754146     2.323902     0.513171  \n",
       "std       0.617755     1.030798     0.620660     0.500070  \n",
       "min       0.000000     0.000000     0.000000     0.000000  \n",
       "25%       1.000000     0.000000     2.000000     0.000000  \n",
       "50%       1.000000     0.000000     2.000000     1.000000  \n",
       "75%       2.000000     1.000000     3.000000     1.000000  \n",
       "max       2.000000     4.000000     3.000000     1.000000  "
      ]
     },
     "execution_count": 6,
     "metadata": {},
     "output_type": "execute_result"
    }
   ],
   "source": [
    "data.describe()  # it gives you statistical summary"
   ]
  },
  {
   "cell_type": "code",
   "execution_count": 7,
   "id": "37587b81",
   "metadata": {},
   "outputs": [
    {
     "data": {
      "text/plain": [
       "Index(['age', 'sex', 'cp', 'trestbps', 'chol', 'fbs', 'restecg', 'thalach',\n",
       "       'exang', 'oldpeak', 'slope', 'ca', 'thal', 'target'],\n",
       "      dtype='object')"
      ]
     },
     "execution_count": 7,
     "metadata": {},
     "output_type": "execute_result"
    }
   ],
   "source": [
    "data.columns"
   ]
  },
  {
   "cell_type": "code",
   "execution_count": 8,
   "id": "8d66b50c",
   "metadata": {},
   "outputs": [
    {
     "data": {
      "text/plain": [
       "age          41\n",
       "sex           2\n",
       "cp            4\n",
       "trestbps     49\n",
       "chol        152\n",
       "fbs           2\n",
       "restecg       3\n",
       "thalach      91\n",
       "exang         2\n",
       "oldpeak      40\n",
       "slope         3\n",
       "ca            5\n",
       "thal          4\n",
       "target        2\n",
       "dtype: int64"
      ]
     },
     "execution_count": 8,
     "metadata": {},
     "output_type": "execute_result"
    }
   ],
   "source": [
    "data.nunique()  # it gives you unique values present in datasets"
   ]
  },
  {
   "cell_type": "code",
   "execution_count": 9,
   "id": "a8a462dc",
   "metadata": {},
   "outputs": [
    {
     "name": "stdout",
     "output_type": "stream",
     "text": [
      "<class 'pandas.core.frame.DataFrame'>\n",
      "RangeIndex: 1025 entries, 0 to 1024\n",
      "Data columns (total 14 columns):\n",
      " #   Column    Non-Null Count  Dtype  \n",
      "---  ------    --------------  -----  \n",
      " 0   age       1025 non-null   int64  \n",
      " 1   sex       1025 non-null   int64  \n",
      " 2   cp        1025 non-null   int64  \n",
      " 3   trestbps  1025 non-null   int64  \n",
      " 4   chol      1025 non-null   int64  \n",
      " 5   fbs       1025 non-null   int64  \n",
      " 6   restecg   1025 non-null   int64  \n",
      " 7   thalach   1025 non-null   int64  \n",
      " 8   exang     1025 non-null   int64  \n",
      " 9   oldpeak   1025 non-null   float64\n",
      " 10  slope     1025 non-null   int64  \n",
      " 11  ca        1025 non-null   int64  \n",
      " 12  thal      1025 non-null   int64  \n",
      " 13  target    1025 non-null   int64  \n",
      "dtypes: float64(1), int64(13)\n",
      "memory usage: 112.2 KB\n"
     ]
    }
   ],
   "source": [
    "data.info()"
   ]
  },
  {
   "cell_type": "markdown",
   "id": "b68d0c22",
   "metadata": {},
   "source": [
    "### 2) Cleaning The Dataset:"
   ]
  },
  {
   "cell_type": "code",
   "execution_count": 10,
   "id": "567cab61",
   "metadata": {},
   "outputs": [
    {
     "data": {
      "text/plain": [
       "age         0\n",
       "sex         0\n",
       "cp          0\n",
       "trestbps    0\n",
       "chol        0\n",
       "fbs         0\n",
       "restecg     0\n",
       "thalach     0\n",
       "exang       0\n",
       "oldpeak     0\n",
       "slope       0\n",
       "ca          0\n",
       "thal        0\n",
       "target      0\n",
       "dtype: int64"
      ]
     },
     "execution_count": 10,
     "metadata": {},
     "output_type": "execute_result"
    }
   ],
   "source": [
    "data.isnull().sum() #Checking for null values in the data set"
   ]
  },
  {
   "cell_type": "code",
   "execution_count": 11,
   "id": "06744a44",
   "metadata": {},
   "outputs": [
    {
     "data": {
      "text/plain": [
       "True"
      ]
     },
     "execution_count": 11,
     "metadata": {},
     "output_type": "execute_result"
    }
   ],
   "source": [
    "data.duplicated().any() # Tells you whether your data contains duplicated values or not"
   ]
  },
  {
   "cell_type": "code",
   "execution_count": 12,
   "id": "5b7c05b6",
   "metadata": {},
   "outputs": [],
   "source": [
    "data=data.drop_duplicates() # It will remove all duplicates from your data"
   ]
  },
  {
   "cell_type": "markdown",
   "id": "b8585443",
   "metadata": {},
   "source": [
    "### 3) Relationship Analysis"
   ]
  },
  {
   "cell_type": "code",
   "execution_count": 13,
   "id": "c2b80da8",
   "metadata": {},
   "outputs": [
    {
     "data": {
      "text/html": [
       "<div>\n",
       "<style scoped>\n",
       "    .dataframe tbody tr th:only-of-type {\n",
       "        vertical-align: middle;\n",
       "    }\n",
       "\n",
       "    .dataframe tbody tr th {\n",
       "        vertical-align: top;\n",
       "    }\n",
       "\n",
       "    .dataframe thead th {\n",
       "        text-align: right;\n",
       "    }\n",
       "</style>\n",
       "<table border=\"1\" class=\"dataframe\">\n",
       "  <thead>\n",
       "    <tr style=\"text-align: right;\">\n",
       "      <th></th>\n",
       "      <th>age</th>\n",
       "      <th>sex</th>\n",
       "      <th>cp</th>\n",
       "      <th>trestbps</th>\n",
       "      <th>chol</th>\n",
       "      <th>fbs</th>\n",
       "      <th>restecg</th>\n",
       "      <th>thalach</th>\n",
       "      <th>exang</th>\n",
       "      <th>oldpeak</th>\n",
       "      <th>slope</th>\n",
       "      <th>ca</th>\n",
       "      <th>thal</th>\n",
       "      <th>target</th>\n",
       "    </tr>\n",
       "  </thead>\n",
       "  <tbody>\n",
       "    <tr>\n",
       "      <th>age</th>\n",
       "      <td>1.000000</td>\n",
       "      <td>-0.094962</td>\n",
       "      <td>-0.063107</td>\n",
       "      <td>0.283121</td>\n",
       "      <td>0.207216</td>\n",
       "      <td>0.119492</td>\n",
       "      <td>-0.111590</td>\n",
       "      <td>-0.395235</td>\n",
       "      <td>0.093216</td>\n",
       "      <td>0.206040</td>\n",
       "      <td>-0.164124</td>\n",
       "      <td>0.302261</td>\n",
       "      <td>0.065317</td>\n",
       "      <td>-0.221476</td>\n",
       "    </tr>\n",
       "    <tr>\n",
       "      <th>sex</th>\n",
       "      <td>-0.094962</td>\n",
       "      <td>1.000000</td>\n",
       "      <td>-0.051740</td>\n",
       "      <td>-0.057647</td>\n",
       "      <td>-0.195571</td>\n",
       "      <td>0.046022</td>\n",
       "      <td>-0.060351</td>\n",
       "      <td>-0.046439</td>\n",
       "      <td>0.143460</td>\n",
       "      <td>0.098322</td>\n",
       "      <td>-0.032990</td>\n",
       "      <td>0.113060</td>\n",
       "      <td>0.211452</td>\n",
       "      <td>-0.283609</td>\n",
       "    </tr>\n",
       "    <tr>\n",
       "      <th>cp</th>\n",
       "      <td>-0.063107</td>\n",
       "      <td>-0.051740</td>\n",
       "      <td>1.000000</td>\n",
       "      <td>0.046486</td>\n",
       "      <td>-0.072682</td>\n",
       "      <td>0.096018</td>\n",
       "      <td>0.041561</td>\n",
       "      <td>0.293367</td>\n",
       "      <td>-0.392937</td>\n",
       "      <td>-0.146692</td>\n",
       "      <td>0.116854</td>\n",
       "      <td>-0.195356</td>\n",
       "      <td>-0.160370</td>\n",
       "      <td>0.432080</td>\n",
       "    </tr>\n",
       "    <tr>\n",
       "      <th>trestbps</th>\n",
       "      <td>0.283121</td>\n",
       "      <td>-0.057647</td>\n",
       "      <td>0.046486</td>\n",
       "      <td>1.000000</td>\n",
       "      <td>0.125256</td>\n",
       "      <td>0.178125</td>\n",
       "      <td>-0.115367</td>\n",
       "      <td>-0.048023</td>\n",
       "      <td>0.068526</td>\n",
       "      <td>0.194600</td>\n",
       "      <td>-0.122873</td>\n",
       "      <td>0.099248</td>\n",
       "      <td>0.062870</td>\n",
       "      <td>-0.146269</td>\n",
       "    </tr>\n",
       "    <tr>\n",
       "      <th>chol</th>\n",
       "      <td>0.207216</td>\n",
       "      <td>-0.195571</td>\n",
       "      <td>-0.072682</td>\n",
       "      <td>0.125256</td>\n",
       "      <td>1.000000</td>\n",
       "      <td>0.011428</td>\n",
       "      <td>-0.147602</td>\n",
       "      <td>-0.005308</td>\n",
       "      <td>0.064099</td>\n",
       "      <td>0.050086</td>\n",
       "      <td>0.000417</td>\n",
       "      <td>0.086878</td>\n",
       "      <td>0.096810</td>\n",
       "      <td>-0.081437</td>\n",
       "    </tr>\n",
       "    <tr>\n",
       "      <th>fbs</th>\n",
       "      <td>0.119492</td>\n",
       "      <td>0.046022</td>\n",
       "      <td>0.096018</td>\n",
       "      <td>0.178125</td>\n",
       "      <td>0.011428</td>\n",
       "      <td>1.000000</td>\n",
       "      <td>-0.083081</td>\n",
       "      <td>-0.007169</td>\n",
       "      <td>0.024729</td>\n",
       "      <td>0.004514</td>\n",
       "      <td>-0.058654</td>\n",
       "      <td>0.144935</td>\n",
       "      <td>-0.032752</td>\n",
       "      <td>-0.026826</td>\n",
       "    </tr>\n",
       "    <tr>\n",
       "      <th>restecg</th>\n",
       "      <td>-0.111590</td>\n",
       "      <td>-0.060351</td>\n",
       "      <td>0.041561</td>\n",
       "      <td>-0.115367</td>\n",
       "      <td>-0.147602</td>\n",
       "      <td>-0.083081</td>\n",
       "      <td>1.000000</td>\n",
       "      <td>0.041210</td>\n",
       "      <td>-0.068807</td>\n",
       "      <td>-0.056251</td>\n",
       "      <td>0.090402</td>\n",
       "      <td>-0.083112</td>\n",
       "      <td>-0.010473</td>\n",
       "      <td>0.134874</td>\n",
       "    </tr>\n",
       "    <tr>\n",
       "      <th>thalach</th>\n",
       "      <td>-0.395235</td>\n",
       "      <td>-0.046439</td>\n",
       "      <td>0.293367</td>\n",
       "      <td>-0.048023</td>\n",
       "      <td>-0.005308</td>\n",
       "      <td>-0.007169</td>\n",
       "      <td>0.041210</td>\n",
       "      <td>1.000000</td>\n",
       "      <td>-0.377411</td>\n",
       "      <td>-0.342201</td>\n",
       "      <td>0.384754</td>\n",
       "      <td>-0.228311</td>\n",
       "      <td>-0.094910</td>\n",
       "      <td>0.419955</td>\n",
       "    </tr>\n",
       "    <tr>\n",
       "      <th>exang</th>\n",
       "      <td>0.093216</td>\n",
       "      <td>0.143460</td>\n",
       "      <td>-0.392937</td>\n",
       "      <td>0.068526</td>\n",
       "      <td>0.064099</td>\n",
       "      <td>0.024729</td>\n",
       "      <td>-0.068807</td>\n",
       "      <td>-0.377411</td>\n",
       "      <td>1.000000</td>\n",
       "      <td>0.286766</td>\n",
       "      <td>-0.256106</td>\n",
       "      <td>0.125377</td>\n",
       "      <td>0.205826</td>\n",
       "      <td>-0.435601</td>\n",
       "    </tr>\n",
       "    <tr>\n",
       "      <th>oldpeak</th>\n",
       "      <td>0.206040</td>\n",
       "      <td>0.098322</td>\n",
       "      <td>-0.146692</td>\n",
       "      <td>0.194600</td>\n",
       "      <td>0.050086</td>\n",
       "      <td>0.004514</td>\n",
       "      <td>-0.056251</td>\n",
       "      <td>-0.342201</td>\n",
       "      <td>0.286766</td>\n",
       "      <td>1.000000</td>\n",
       "      <td>-0.576314</td>\n",
       "      <td>0.236560</td>\n",
       "      <td>0.209090</td>\n",
       "      <td>-0.429146</td>\n",
       "    </tr>\n",
       "    <tr>\n",
       "      <th>slope</th>\n",
       "      <td>-0.164124</td>\n",
       "      <td>-0.032990</td>\n",
       "      <td>0.116854</td>\n",
       "      <td>-0.122873</td>\n",
       "      <td>0.000417</td>\n",
       "      <td>-0.058654</td>\n",
       "      <td>0.090402</td>\n",
       "      <td>0.384754</td>\n",
       "      <td>-0.256106</td>\n",
       "      <td>-0.576314</td>\n",
       "      <td>1.000000</td>\n",
       "      <td>-0.092236</td>\n",
       "      <td>-0.103314</td>\n",
       "      <td>0.343940</td>\n",
       "    </tr>\n",
       "    <tr>\n",
       "      <th>ca</th>\n",
       "      <td>0.302261</td>\n",
       "      <td>0.113060</td>\n",
       "      <td>-0.195356</td>\n",
       "      <td>0.099248</td>\n",
       "      <td>0.086878</td>\n",
       "      <td>0.144935</td>\n",
       "      <td>-0.083112</td>\n",
       "      <td>-0.228311</td>\n",
       "      <td>0.125377</td>\n",
       "      <td>0.236560</td>\n",
       "      <td>-0.092236</td>\n",
       "      <td>1.000000</td>\n",
       "      <td>0.160085</td>\n",
       "      <td>-0.408992</td>\n",
       "    </tr>\n",
       "    <tr>\n",
       "      <th>thal</th>\n",
       "      <td>0.065317</td>\n",
       "      <td>0.211452</td>\n",
       "      <td>-0.160370</td>\n",
       "      <td>0.062870</td>\n",
       "      <td>0.096810</td>\n",
       "      <td>-0.032752</td>\n",
       "      <td>-0.010473</td>\n",
       "      <td>-0.094910</td>\n",
       "      <td>0.205826</td>\n",
       "      <td>0.209090</td>\n",
       "      <td>-0.103314</td>\n",
       "      <td>0.160085</td>\n",
       "      <td>1.000000</td>\n",
       "      <td>-0.343101</td>\n",
       "    </tr>\n",
       "    <tr>\n",
       "      <th>target</th>\n",
       "      <td>-0.221476</td>\n",
       "      <td>-0.283609</td>\n",
       "      <td>0.432080</td>\n",
       "      <td>-0.146269</td>\n",
       "      <td>-0.081437</td>\n",
       "      <td>-0.026826</td>\n",
       "      <td>0.134874</td>\n",
       "      <td>0.419955</td>\n",
       "      <td>-0.435601</td>\n",
       "      <td>-0.429146</td>\n",
       "      <td>0.343940</td>\n",
       "      <td>-0.408992</td>\n",
       "      <td>-0.343101</td>\n",
       "      <td>1.000000</td>\n",
       "    </tr>\n",
       "  </tbody>\n",
       "</table>\n",
       "</div>"
      ],
      "text/plain": [
       "               age       sex        cp  trestbps      chol       fbs  \\\n",
       "age       1.000000 -0.094962 -0.063107  0.283121  0.207216  0.119492   \n",
       "sex      -0.094962  1.000000 -0.051740 -0.057647 -0.195571  0.046022   \n",
       "cp       -0.063107 -0.051740  1.000000  0.046486 -0.072682  0.096018   \n",
       "trestbps  0.283121 -0.057647  0.046486  1.000000  0.125256  0.178125   \n",
       "chol      0.207216 -0.195571 -0.072682  0.125256  1.000000  0.011428   \n",
       "fbs       0.119492  0.046022  0.096018  0.178125  0.011428  1.000000   \n",
       "restecg  -0.111590 -0.060351  0.041561 -0.115367 -0.147602 -0.083081   \n",
       "thalach  -0.395235 -0.046439  0.293367 -0.048023 -0.005308 -0.007169   \n",
       "exang     0.093216  0.143460 -0.392937  0.068526  0.064099  0.024729   \n",
       "oldpeak   0.206040  0.098322 -0.146692  0.194600  0.050086  0.004514   \n",
       "slope    -0.164124 -0.032990  0.116854 -0.122873  0.000417 -0.058654   \n",
       "ca        0.302261  0.113060 -0.195356  0.099248  0.086878  0.144935   \n",
       "thal      0.065317  0.211452 -0.160370  0.062870  0.096810 -0.032752   \n",
       "target   -0.221476 -0.283609  0.432080 -0.146269 -0.081437 -0.026826   \n",
       "\n",
       "           restecg   thalach     exang   oldpeak     slope        ca  \\\n",
       "age      -0.111590 -0.395235  0.093216  0.206040 -0.164124  0.302261   \n",
       "sex      -0.060351 -0.046439  0.143460  0.098322 -0.032990  0.113060   \n",
       "cp        0.041561  0.293367 -0.392937 -0.146692  0.116854 -0.195356   \n",
       "trestbps -0.115367 -0.048023  0.068526  0.194600 -0.122873  0.099248   \n",
       "chol     -0.147602 -0.005308  0.064099  0.050086  0.000417  0.086878   \n",
       "fbs      -0.083081 -0.007169  0.024729  0.004514 -0.058654  0.144935   \n",
       "restecg   1.000000  0.041210 -0.068807 -0.056251  0.090402 -0.083112   \n",
       "thalach   0.041210  1.000000 -0.377411 -0.342201  0.384754 -0.228311   \n",
       "exang    -0.068807 -0.377411  1.000000  0.286766 -0.256106  0.125377   \n",
       "oldpeak  -0.056251 -0.342201  0.286766  1.000000 -0.576314  0.236560   \n",
       "slope     0.090402  0.384754 -0.256106 -0.576314  1.000000 -0.092236   \n",
       "ca       -0.083112 -0.228311  0.125377  0.236560 -0.092236  1.000000   \n",
       "thal     -0.010473 -0.094910  0.205826  0.209090 -0.103314  0.160085   \n",
       "target    0.134874  0.419955 -0.435601 -0.429146  0.343940 -0.408992   \n",
       "\n",
       "              thal    target  \n",
       "age       0.065317 -0.221476  \n",
       "sex       0.211452 -0.283609  \n",
       "cp       -0.160370  0.432080  \n",
       "trestbps  0.062870 -0.146269  \n",
       "chol      0.096810 -0.081437  \n",
       "fbs      -0.032752 -0.026826  \n",
       "restecg  -0.010473  0.134874  \n",
       "thalach  -0.094910  0.419955  \n",
       "exang     0.205826 -0.435601  \n",
       "oldpeak   0.209090 -0.429146  \n",
       "slope    -0.103314  0.343940  \n",
       "ca        0.160085 -0.408992  \n",
       "thal      1.000000 -0.343101  \n",
       "target   -0.343101  1.000000  "
      ]
     },
     "execution_count": 13,
     "metadata": {},
     "output_type": "execute_result"
    }
   ],
   "source": [
    "corelation = data.corr() \n",
    "corelation"
   ]
  },
  {
   "cell_type": "markdown",
   "id": "67162e13",
   "metadata": {},
   "source": [
    "### Creating Heatmap"
   ]
  },
  {
   "cell_type": "code",
   "execution_count": 14,
   "id": "9143164f",
   "metadata": {},
   "outputs": [
    {
     "data": {
      "text/plain": [
       "<AxesSubplot:>"
      ]
     },
     "execution_count": 14,
     "metadata": {},
     "output_type": "execute_result"
    },
    {
     "data": {
      "image/png": "[encoded data removed]",
      "text/plain": [
       "<Figure size 1080x432 with 2 Axes>"
      ]
     },
     "metadata": {
      "needs_background": "light"
     },
     "output_type": "display_data"
    }
   ],
   "source": [
    "# Heatmap shows relationships and changes\n",
    "plt.figure(figsize=(15,6))\n",
    "sns.heatmap(corelation, xticklabels = corelation.columns, yticklabels = corelation.columns, annot = True)"
   ]
  },
  {
   "cell_type": "code",
   "execution_count": 15,
   "id": "adcc6884",
   "metadata": {},
   "outputs": [
    {
     "data": {
      "text/plain": [
       "1    164\n",
       "0    138\n",
       "Name: target, dtype: int64"
      ]
     },
     "execution_count": 15,
     "metadata": {},
     "output_type": "execute_result"
    }
   ],
   "source": [
    "data['target'].value_counts()"
   ]
  },
  {
   "cell_type": "code",
   "execution_count": 16,
   "id": "66705f38",
   "metadata": {},
   "outputs": [
    {
     "data": {
      "image/png": "[encoded data removed]",
      "text/plain": [
       "<Figure size 1440x1440 with 16 Axes>"
      ]
     },
     "metadata": {},
     "output_type": "display_data"
    }
   ],
   "source": [
    "sns.set(font_scale=1.5)\n",
    "data.hist(edgecolor='black', linewidth=1.2, figsize=(20,20));"
   ]
  },
  {
   "cell_type": "markdown",
   "id": "7b3cc863",
   "metadata": {},
   "source": [
    "## Count plot of Heart Disease"
   ]
  },
  {
   "cell_type": "code",
   "execution_count": 17,
   "id": "f61d2d7e",
   "metadata": {},
   "outputs": [
    {
     "name": "stderr",
     "output_type": "stream",
     "text": [
      "E:\\anaconda\\lib\\site-packages\\seaborn\\_decorators.py:36: FutureWarning: Pass the following variable as a keyword arg: x. From version 0.12, the only valid positional argument will be `data`, and passing other arguments without an explicit keyword will result in an error or misinterpretation.\n",
      "  warnings.warn(\n"
     ]
    },
    {
     "data": {
      "image/png": "[encoded data removed]",
      "text/plain": [
       "<Figure size 432x288 with 1 Axes>"
      ]
     },
     "metadata": {},
     "output_type": "display_data"
    }
   ],
   "source": [
    "sns.countplot(data['target'])\n",
    "plt.title(\"Heart Disease Values\")\n",
    "plt.xticks([0,1],['No Disease','Disease'])\n",
    "plt.show()"
   ]
  },
  {
   "cell_type": "code",
   "execution_count": 18,
   "id": "8be50ee5",
   "metadata": {},
   "outputs": [
    {
     "data": {
      "text/plain": [
       "<AxesSubplot:xlabel='sex', ylabel='count'>"
      ]
     },
     "execution_count": 18,
     "metadata": {},
     "output_type": "execute_result"
    },
    {
     "data": {
      "image/png": "[encoded data removed]",
      "text/plain": [
       "<Figure size 432x288 with 1 Axes>"
      ]
     },
     "metadata": {},
     "output_type": "display_data"
    }
   ],
   "source": [
    "#Count plot of sex\n",
    "sns.countplot(x='sex', data=data) "
   ]
  },
  {
   "cell_type": "code",
   "execution_count": 19,
   "id": "2b6ce006",
   "metadata": {},
   "outputs": [
    {
     "data": {
      "text/plain": [
       "1    206\n",
       "0     96\n",
       "Name: sex, dtype: int64"
      ]
     },
     "execution_count": 19,
     "metadata": {},
     "output_type": "execute_result"
    }
   ],
   "source": [
    "data['sex'].value_counts()"
   ]
  },
  {
   "cell_type": "markdown",
   "id": "0022a70e",
   "metadata": {},
   "source": [
    "## Distribution of Gender According to Heart Disease"
   ]
  },
  {
   "cell_type": "code",
   "execution_count": 20,
   "id": "e73b2f63",
   "metadata": {},
   "outputs": [
    {
     "data": {
      "image/png": "[encoded data removed]",
      "text/plain": [
       "<Figure size 432x288 with 1 Axes>"
      ]
     },
     "metadata": {},
     "output_type": "display_data"
    }
   ],
   "source": [
    "sns.countplot(x=\"sex\",hue=\"target\",data=data)\n",
    "plt.title(\"Distribution of Gender According to Heart Disease\")\n",
    "plt.xticks([1,0],['Male','Female'])\n",
    "plt.legend(labels=['No Disease','Disease'])\n",
    "plt.show()"
   ]
  },
  {
   "cell_type": "code",
   "execution_count": 21,
   "id": "7cb66b6b",
   "metadata": {},
   "outputs": [
    {
     "data": {
      "text/plain": [
       "sex  target\n",
       "0    1          72\n",
       "     0          24\n",
       "1    0         114\n",
       "     1          92\n",
       "Name: target, dtype: int64"
      ]
     },
     "execution_count": 21,
     "metadata": {},
     "output_type": "execute_result"
    }
   ],
   "source": [
    "data.groupby('sex')['target'].value_counts()"
   ]
  },
  {
   "cell_type": "markdown",
   "id": "ceb07217",
   "metadata": {},
   "source": [
    "### Chest Pain type Countplot"
   ]
  },
  {
   "cell_type": "code",
   "execution_count": 22,
   "id": "6f8129c7",
   "metadata": {},
   "outputs": [
    {
     "name": "stderr",
     "output_type": "stream",
     "text": [
      "E:\\anaconda\\lib\\site-packages\\seaborn\\_decorators.py:36: FutureWarning: Pass the following variable as a keyword arg: x. From version 0.12, the only valid positional argument will be `data`, and passing other arguments without an explicit keyword will result in an error or misinterpretation.\n",
      "  warnings.warn(\n"
     ]
    },
    {
     "data": {
      "image/png": "[encoded data removed]",
      "text/plain": [
       "<Figure size 432x288 with 1 Axes>"
      ]
     },
     "metadata": {},
     "output_type": "display_data"
    }
   ],
   "source": [
    "sns.countplot(data['cp'])\n",
    "plt.title(\"chest pain type\")\n",
    "plt.xticks([0,1,2,3],['typical angina','atypical angina','non-anginal pain','asymptomatic'],rotation= 'vertical')\n",
    "plt.show()"
   ]
  },
  {
   "cell_type": "markdown",
   "id": "0b57dde8",
   "metadata": {},
   "source": [
    "###  Distribution Of Chest Pain According To Heart Disease"
   ]
  },
  {
   "cell_type": "code",
   "execution_count": 23,
   "id": "dbfe5455",
   "metadata": {},
   "outputs": [
    {
     "data": {
      "image/png": "[encoded data removed]",
      "text/plain": [
       "<Figure size 432x288 with 1 Axes>"
      ]
     },
     "metadata": {},
     "output_type": "display_data"
    }
   ],
   "source": [
    "sns.countplot(x=\"cp\",hue=\"target\",data=data)\n",
    "plt.title(\" Distribution Of Chest Pain According to Heart Disease\")\n",
    "plt.xticks([0,1,2,3],['typical angina','atypical angina','non-anginal pain','asymptomatic'], rotation = 'vertical')\n",
    "plt.legend(labels=['No Disease','Disease'])\n",
    "plt.show()"
   ]
  },
  {
   "cell_type": "markdown",
   "id": "a832b3f6",
   "metadata": {},
   "source": [
    "### Age Distribution According to Heart Disease"
   ]
  },
  {
   "cell_type": "code",
   "execution_count": 24,
   "id": "f9d2f109",
   "metadata": {},
   "outputs": [
    {
     "data": {
      "image/png": "[encoded data removed]",
      "text/plain": [
       "<Figure size 1080x360 with 1 Axes>"
      ]
     },
     "metadata": {},
     "output_type": "display_data"
    }
   ],
   "source": [
    "plt.figure(figsize = (15,5))\n",
    "sns.countplot(x=\"age\",hue=\"target\",data=data)\n",
    "plt.title(\"Age Distribution According to Heart Disease\")\n",
    "plt.legend(labels=['No Disease','Disease'])\n",
    "plt.show()"
   ]
  },
  {
   "cell_type": "markdown",
   "id": "388701d1",
   "metadata": {},
   "source": [
    "### Fasting Blood Sugar Distribution According to Heart Disease"
   ]
  },
  {
   "cell_type": "code",
   "execution_count": 50,
   "id": "0aac674e",
   "metadata": {},
   "outputs": [
    {
     "data": {
      "image/png": "[encoded data removed]",
      "text/plain": [
       "<Figure size 1008x360 with 1 Axes>"
      ]
     },
     "metadata": {},
     "output_type": "display_data"
    }
   ],
   "source": [
    "plt.figure(figsize = (14,5))\n",
    "sns.countplot(x=\"restecg\",hue=\"target\",data=data)\n",
    "plt.title(\"Fasting Blood Sugar Distribution According to Heart Disease\")\n",
    "plt.xticks([0,1,2],['normal','abnormal','probable or definite left ventricular hypertrophy'])\n",
    "plt.legend(labels=['No Disease','Disease'])\n",
    "\n",
    "plt.show()"
   ]
  },
  {
   "cell_type": "markdown",
   "id": "f8140a4c",
   "metadata": {},
   "source": [
    "### Fasting Blood Sugar Distribution According to Heart Disease"
   ]
  },
  {
   "cell_type": "code",
   "execution_count": 26,
   "id": "b88eb6c5",
   "metadata": {},
   "outputs": [
    {
     "data": {
      "image/png": "[encoded data removed]",
      "text/plain": [
       "<Figure size 432x288 with 1 Axes>"
      ]
     },
     "metadata": {},
     "output_type": "display_data"
    }
   ],
   "source": [
    "sns.countplot(x=\"fbs\",hue=\"target\",data=data)\n",
    "plt.title(\"Fasting Blood Sugar Distribution According to Heart Disease\")\n",
    "plt.xticks([0,1],['without diabetes','diabetes'])\n",
    "plt.legend(labels=['No Disease','Disease'])\n",
    "plt.show()"
   ]
  },
  {
   "cell_type": "markdown",
   "id": "5a6e9ebd",
   "metadata": {},
   "source": [
    "## Model Building"
   ]
  },
  {
   "cell_type": "code",
   "execution_count": 27,
   "id": "087e9fe4",
   "metadata": {},
   "outputs": [],
   "source": [
    "\n",
    "from sklearn.preprocessing import StandardScaler\n",
    "standardScaler = StandardScaler()\n",
    "dataset = pd.get_dummies(data, columns = ['sex', 'cp', 'fbs', 'restecg', 'exang', 'slope', 'ca', 'thal'])# creating dummy variable\n",
    "columns_to_scale = ['age', 'trestbps', 'chol', 'thalach', 'oldpeak'] # we have taken these columns for scale down\n",
    "dataset[columns_to_scale] = standardScaler.fit_transform(dataset[columns_to_scale])"
   ]
  },
  {
   "cell_type": "code",
   "execution_count": 28,
   "id": "402705fc",
   "metadata": {},
   "outputs": [
    {
     "data": {
      "text/html": [
       "<div>\n",
       "<style scoped>\n",
       "    .dataframe tbody tr th:only-of-type {\n",
       "        vertical-align: middle;\n",
       "    }\n",
       "\n",
       "    .dataframe tbody tr th {\n",
       "        vertical-align: top;\n",
       "    }\n",
       "\n",
       "    .dataframe thead th {\n",
       "        text-align: right;\n",
       "    }\n",
       "</style>\n",
       "<table border=\"1\" class=\"dataframe\">\n",
       "  <thead>\n",
       "    <tr style=\"text-align: right;\">\n",
       "      <th></th>\n",
       "      <th>age</th>\n",
       "      <th>trestbps</th>\n",
       "      <th>chol</th>\n",
       "      <th>thalach</th>\n",
       "      <th>oldpeak</th>\n",
       "      <th>target</th>\n",
       "      <th>sex_0</th>\n",
       "      <th>sex_1</th>\n",
       "      <th>cp_0</th>\n",
       "      <th>cp_1</th>\n",
       "      <th>...</th>\n",
       "      <th>slope_2</th>\n",
       "      <th>ca_0</th>\n",
       "      <th>ca_1</th>\n",
       "      <th>ca_2</th>\n",
       "      <th>ca_3</th>\n",
       "      <th>ca_4</th>\n",
       "      <th>thal_0</th>\n",
       "      <th>thal_1</th>\n",
       "      <th>thal_2</th>\n",
       "      <th>thal_3</th>\n",
       "    </tr>\n",
       "  </thead>\n",
       "  <tbody>\n",
       "    <tr>\n",
       "      <th>0</th>\n",
       "      <td>-0.267966</td>\n",
       "      <td>-0.376556</td>\n",
       "      <td>-0.667728</td>\n",
       "      <td>0.806035</td>\n",
       "      <td>-0.037124</td>\n",
       "      <td>0</td>\n",
       "      <td>0</td>\n",
       "      <td>1</td>\n",
       "      <td>1</td>\n",
       "      <td>0</td>\n",
       "      <td>...</td>\n",
       "      <td>1</td>\n",
       "      <td>0</td>\n",
       "      <td>0</td>\n",
       "      <td>1</td>\n",
       "      <td>0</td>\n",
       "      <td>0</td>\n",
       "      <td>0</td>\n",
       "      <td>0</td>\n",
       "      <td>0</td>\n",
       "      <td>1</td>\n",
       "    </tr>\n",
       "    <tr>\n",
       "      <th>1</th>\n",
       "      <td>-0.157260</td>\n",
       "      <td>0.478910</td>\n",
       "      <td>-0.841918</td>\n",
       "      <td>0.237495</td>\n",
       "      <td>1.773958</td>\n",
       "      <td>0</td>\n",
       "      <td>0</td>\n",
       "      <td>1</td>\n",
       "      <td>1</td>\n",
       "      <td>0</td>\n",
       "      <td>...</td>\n",
       "      <td>0</td>\n",
       "      <td>1</td>\n",
       "      <td>0</td>\n",
       "      <td>0</td>\n",
       "      <td>0</td>\n",
       "      <td>0</td>\n",
       "      <td>0</td>\n",
       "      <td>0</td>\n",
       "      <td>0</td>\n",
       "      <td>1</td>\n",
       "    </tr>\n",
       "    <tr>\n",
       "      <th>2</th>\n",
       "      <td>1.724733</td>\n",
       "      <td>0.764066</td>\n",
       "      <td>-1.403197</td>\n",
       "      <td>-1.074521</td>\n",
       "      <td>1.342748</td>\n",
       "      <td>0</td>\n",
       "      <td>0</td>\n",
       "      <td>1</td>\n",
       "      <td>1</td>\n",
       "      <td>0</td>\n",
       "      <td>...</td>\n",
       "      <td>0</td>\n",
       "      <td>1</td>\n",
       "      <td>0</td>\n",
       "      <td>0</td>\n",
       "      <td>0</td>\n",
       "      <td>0</td>\n",
       "      <td>0</td>\n",
       "      <td>0</td>\n",
       "      <td>0</td>\n",
       "      <td>1</td>\n",
       "    </tr>\n",
       "    <tr>\n",
       "      <th>3</th>\n",
       "      <td>0.728383</td>\n",
       "      <td>0.935159</td>\n",
       "      <td>-0.841918</td>\n",
       "      <td>0.499898</td>\n",
       "      <td>-0.899544</td>\n",
       "      <td>0</td>\n",
       "      <td>0</td>\n",
       "      <td>1</td>\n",
       "      <td>1</td>\n",
       "      <td>0</td>\n",
       "      <td>...</td>\n",
       "      <td>1</td>\n",
       "      <td>0</td>\n",
       "      <td>1</td>\n",
       "      <td>0</td>\n",
       "      <td>0</td>\n",
       "      <td>0</td>\n",
       "      <td>0</td>\n",
       "      <td>0</td>\n",
       "      <td>0</td>\n",
       "      <td>1</td>\n",
       "    </tr>\n",
       "    <tr>\n",
       "      <th>4</th>\n",
       "      <td>0.839089</td>\n",
       "      <td>0.364848</td>\n",
       "      <td>0.919336</td>\n",
       "      <td>-1.905464</td>\n",
       "      <td>0.739054</td>\n",
       "      <td>0</td>\n",
       "      <td>1</td>\n",
       "      <td>0</td>\n",
       "      <td>1</td>\n",
       "      <td>0</td>\n",
       "      <td>...</td>\n",
       "      <td>0</td>\n",
       "      <td>0</td>\n",
       "      <td>0</td>\n",
       "      <td>0</td>\n",
       "      <td>1</td>\n",
       "      <td>0</td>\n",
       "      <td>0</td>\n",
       "      <td>0</td>\n",
       "      <td>1</td>\n",
       "      <td>0</td>\n",
       "    </tr>\n",
       "  </tbody>\n",
       "</table>\n",
       "<p>5 rows × 31 columns</p>\n",
       "</div>"
      ],
      "text/plain": [
       "        age  trestbps      chol   thalach   oldpeak  target  sex_0  sex_1  \\\n",
       "0 -0.267966 -0.376556 -0.667728  0.806035 -0.037124       0      0      1   \n",
       "1 -0.157260  0.478910 -0.841918  0.237495  1.773958       0      0      1   \n",
       "2  1.724733  0.764066 -1.403197 -1.074521  1.342748       0      0      1   \n",
       "3  0.728383  0.935159 -0.841918  0.499898 -0.899544       0      0      1   \n",
       "4  0.839089  0.364848  0.919336 -1.905464  0.739054       0      1      0   \n",
       "\n",
       "   cp_0  cp_1  ...  slope_2  ca_0  ca_1  ca_2  ca_3  ca_4  thal_0  thal_1  \\\n",
       "0     1     0  ...        1     0     0     1     0     0       0       0   \n",
       "1     1     0  ...        0     1     0     0     0     0       0       0   \n",
       "2     1     0  ...        0     1     0     0     0     0       0       0   \n",
       "3     1     0  ...        1     0     1     0     0     0       0       0   \n",
       "4     1     0  ...        0     0     0     0     1     0       0       0   \n",
       "\n",
       "   thal_2  thal_3  \n",
       "0       0       1  \n",
       "1       0       1  \n",
       "2       0       1  \n",
       "3       0       1  \n",
       "4       1       0  \n",
       "\n",
       "[5 rows x 31 columns]"
      ]
     },
     "execution_count": 28,
     "metadata": {},
     "output_type": "execute_result"
    }
   ],
   "source": [
    "dataset.head()"
   ]
  },
  {
   "cell_type": "code",
   "execution_count": 29,
   "id": "b7ba3af2",
   "metadata": {},
   "outputs": [],
   "source": [
    "input_variables=dataset.drop(columns='target',axis=1)\n",
    "target_variable=dataset['target']"
   ]
  },
  {
   "cell_type": "code",
   "execution_count": 30,
   "id": "19fbe38c",
   "metadata": {},
   "outputs": [
    {
     "data": {
      "text/html": [
       "<div>\n",
       "<style scoped>\n",
       "    .dataframe tbody tr th:only-of-type {\n",
       "        vertical-align: middle;\n",
       "    }\n",
       "\n",
       "    .dataframe tbody tr th {\n",
       "        vertical-align: top;\n",
       "    }\n",
       "\n",
       "    .dataframe thead th {\n",
       "        text-align: right;\n",
       "    }\n",
       "</style>\n",
       "<table border=\"1\" class=\"dataframe\">\n",
       "  <thead>\n",
       "    <tr style=\"text-align: right;\">\n",
       "      <th></th>\n",
       "      <th>age</th>\n",
       "      <th>trestbps</th>\n",
       "      <th>chol</th>\n",
       "      <th>thalach</th>\n",
       "      <th>oldpeak</th>\n",
       "      <th>sex_0</th>\n",
       "      <th>sex_1</th>\n",
       "      <th>cp_0</th>\n",
       "      <th>cp_1</th>\n",
       "      <th>cp_2</th>\n",
       "      <th>...</th>\n",
       "      <th>slope_2</th>\n",
       "      <th>ca_0</th>\n",
       "      <th>ca_1</th>\n",
       "      <th>ca_2</th>\n",
       "      <th>ca_3</th>\n",
       "      <th>ca_4</th>\n",
       "      <th>thal_0</th>\n",
       "      <th>thal_1</th>\n",
       "      <th>thal_2</th>\n",
       "      <th>thal_3</th>\n",
       "    </tr>\n",
       "  </thead>\n",
       "  <tbody>\n",
       "    <tr>\n",
       "      <th>0</th>\n",
       "      <td>-0.267966</td>\n",
       "      <td>-0.376556</td>\n",
       "      <td>-0.667728</td>\n",
       "      <td>0.806035</td>\n",
       "      <td>-0.037124</td>\n",
       "      <td>0</td>\n",
       "      <td>1</td>\n",
       "      <td>1</td>\n",
       "      <td>0</td>\n",
       "      <td>0</td>\n",
       "      <td>...</td>\n",
       "      <td>1</td>\n",
       "      <td>0</td>\n",
       "      <td>0</td>\n",
       "      <td>1</td>\n",
       "      <td>0</td>\n",
       "      <td>0</td>\n",
       "      <td>0</td>\n",
       "      <td>0</td>\n",
       "      <td>0</td>\n",
       "      <td>1</td>\n",
       "    </tr>\n",
       "    <tr>\n",
       "      <th>1</th>\n",
       "      <td>-0.157260</td>\n",
       "      <td>0.478910</td>\n",
       "      <td>-0.841918</td>\n",
       "      <td>0.237495</td>\n",
       "      <td>1.773958</td>\n",
       "      <td>0</td>\n",
       "      <td>1</td>\n",
       "      <td>1</td>\n",
       "      <td>0</td>\n",
       "      <td>0</td>\n",
       "      <td>...</td>\n",
       "      <td>0</td>\n",
       "      <td>1</td>\n",
       "      <td>0</td>\n",
       "      <td>0</td>\n",
       "      <td>0</td>\n",
       "      <td>0</td>\n",
       "      <td>0</td>\n",
       "      <td>0</td>\n",
       "      <td>0</td>\n",
       "      <td>1</td>\n",
       "    </tr>\n",
       "    <tr>\n",
       "      <th>2</th>\n",
       "      <td>1.724733</td>\n",
       "      <td>0.764066</td>\n",
       "      <td>-1.403197</td>\n",
       "      <td>-1.074521</td>\n",
       "      <td>1.342748</td>\n",
       "      <td>0</td>\n",
       "      <td>1</td>\n",
       "      <td>1</td>\n",
       "      <td>0</td>\n",
       "      <td>0</td>\n",
       "      <td>...</td>\n",
       "      <td>0</td>\n",
       "      <td>1</td>\n",
       "      <td>0</td>\n",
       "      <td>0</td>\n",
       "      <td>0</td>\n",
       "      <td>0</td>\n",
       "      <td>0</td>\n",
       "      <td>0</td>\n",
       "      <td>0</td>\n",
       "      <td>1</td>\n",
       "    </tr>\n",
       "    <tr>\n",
       "      <th>3</th>\n",
       "      <td>0.728383</td>\n",
       "      <td>0.935159</td>\n",
       "      <td>-0.841918</td>\n",
       "      <td>0.499898</td>\n",
       "      <td>-0.899544</td>\n",
       "      <td>0</td>\n",
       "      <td>1</td>\n",
       "      <td>1</td>\n",
       "      <td>0</td>\n",
       "      <td>0</td>\n",
       "      <td>...</td>\n",
       "      <td>1</td>\n",
       "      <td>0</td>\n",
       "      <td>1</td>\n",
       "      <td>0</td>\n",
       "      <td>0</td>\n",
       "      <td>0</td>\n",
       "      <td>0</td>\n",
       "      <td>0</td>\n",
       "      <td>0</td>\n",
       "      <td>1</td>\n",
       "    </tr>\n",
       "    <tr>\n",
       "      <th>4</th>\n",
       "      <td>0.839089</td>\n",
       "      <td>0.364848</td>\n",
       "      <td>0.919336</td>\n",
       "      <td>-1.905464</td>\n",
       "      <td>0.739054</td>\n",
       "      <td>1</td>\n",
       "      <td>0</td>\n",
       "      <td>1</td>\n",
       "      <td>0</td>\n",
       "      <td>0</td>\n",
       "      <td>...</td>\n",
       "      <td>0</td>\n",
       "      <td>0</td>\n",
       "      <td>0</td>\n",
       "      <td>0</td>\n",
       "      <td>1</td>\n",
       "      <td>0</td>\n",
       "      <td>0</td>\n",
       "      <td>0</td>\n",
       "      <td>1</td>\n",
       "      <td>0</td>\n",
       "    </tr>\n",
       "    <tr>\n",
       "      <th>...</th>\n",
       "      <td>...</td>\n",
       "      <td>...</td>\n",
       "      <td>...</td>\n",
       "      <td>...</td>\n",
       "      <td>...</td>\n",
       "      <td>...</td>\n",
       "      <td>...</td>\n",
       "      <td>...</td>\n",
       "      <td>...</td>\n",
       "      <td>...</td>\n",
       "      <td>...</td>\n",
       "      <td>...</td>\n",
       "      <td>...</td>\n",
       "      <td>...</td>\n",
       "      <td>...</td>\n",
       "      <td>...</td>\n",
       "      <td>...</td>\n",
       "      <td>...</td>\n",
       "      <td>...</td>\n",
       "      <td>...</td>\n",
       "      <td>...</td>\n",
       "    </tr>\n",
       "    <tr>\n",
       "      <th>723</th>\n",
       "      <td>1.503322</td>\n",
       "      <td>-0.661712</td>\n",
       "      <td>-0.687083</td>\n",
       "      <td>-1.511859</td>\n",
       "      <td>0.394086</td>\n",
       "      <td>1</td>\n",
       "      <td>0</td>\n",
       "      <td>0</td>\n",
       "      <td>0</td>\n",
       "      <td>1</td>\n",
       "      <td>...</td>\n",
       "      <td>0</td>\n",
       "      <td>1</td>\n",
       "      <td>0</td>\n",
       "      <td>0</td>\n",
       "      <td>0</td>\n",
       "      <td>0</td>\n",
       "      <td>0</td>\n",
       "      <td>0</td>\n",
       "      <td>1</td>\n",
       "      <td>0</td>\n",
       "    </tr>\n",
       "    <tr>\n",
       "      <th>733</th>\n",
       "      <td>-1.153610</td>\n",
       "      <td>-1.346085</td>\n",
       "      <td>-2.041893</td>\n",
       "      <td>1.112172</td>\n",
       "      <td>-0.382092</td>\n",
       "      <td>1</td>\n",
       "      <td>0</td>\n",
       "      <td>0</td>\n",
       "      <td>0</td>\n",
       "      <td>1</td>\n",
       "      <td>...</td>\n",
       "      <td>0</td>\n",
       "      <td>1</td>\n",
       "      <td>0</td>\n",
       "      <td>0</td>\n",
       "      <td>0</td>\n",
       "      <td>0</td>\n",
       "      <td>0</td>\n",
       "      <td>0</td>\n",
       "      <td>1</td>\n",
       "      <td>0</td>\n",
       "    </tr>\n",
       "    <tr>\n",
       "      <th>739</th>\n",
       "      <td>-0.267966</td>\n",
       "      <td>-0.205463</td>\n",
       "      <td>0.164513</td>\n",
       "      <td>0.499898</td>\n",
       "      <td>-0.899544</td>\n",
       "      <td>0</td>\n",
       "      <td>1</td>\n",
       "      <td>1</td>\n",
       "      <td>0</td>\n",
       "      <td>0</td>\n",
       "      <td>...</td>\n",
       "      <td>1</td>\n",
       "      <td>0</td>\n",
       "      <td>1</td>\n",
       "      <td>0</td>\n",
       "      <td>0</td>\n",
       "      <td>0</td>\n",
       "      <td>0</td>\n",
       "      <td>0</td>\n",
       "      <td>0</td>\n",
       "      <td>1</td>\n",
       "    </tr>\n",
       "    <tr>\n",
       "      <th>843</th>\n",
       "      <td>0.506972</td>\n",
       "      <td>1.619532</td>\n",
       "      <td>0.512893</td>\n",
       "      <td>-1.074521</td>\n",
       "      <td>-0.899544</td>\n",
       "      <td>0</td>\n",
       "      <td>1</td>\n",
       "      <td>0</td>\n",
       "      <td>0</td>\n",
       "      <td>0</td>\n",
       "      <td>...</td>\n",
       "      <td>1</td>\n",
       "      <td>1</td>\n",
       "      <td>0</td>\n",
       "      <td>0</td>\n",
       "      <td>0</td>\n",
       "      <td>0</td>\n",
       "      <td>0</td>\n",
       "      <td>0</td>\n",
       "      <td>1</td>\n",
       "      <td>0</td>\n",
       "    </tr>\n",
       "    <tr>\n",
       "      <th>878</th>\n",
       "      <td>-0.046555</td>\n",
       "      <td>-0.661712</td>\n",
       "      <td>-1.132235</td>\n",
       "      <td>-1.599327</td>\n",
       "      <td>0.307844</td>\n",
       "      <td>0</td>\n",
       "      <td>1</td>\n",
       "      <td>1</td>\n",
       "      <td>0</td>\n",
       "      <td>0</td>\n",
       "      <td>...</td>\n",
       "      <td>0</td>\n",
       "      <td>0</td>\n",
       "      <td>1</td>\n",
       "      <td>0</td>\n",
       "      <td>0</td>\n",
       "      <td>0</td>\n",
       "      <td>0</td>\n",
       "      <td>0</td>\n",
       "      <td>0</td>\n",
       "      <td>1</td>\n",
       "    </tr>\n",
       "  </tbody>\n",
       "</table>\n",
       "<p>302 rows × 30 columns</p>\n",
       "</div>"
      ],
      "text/plain": [
       "          age  trestbps      chol   thalach   oldpeak  sex_0  sex_1  cp_0  \\\n",
       "0   -0.267966 -0.376556 -0.667728  0.806035 -0.037124      0      1     1   \n",
       "1   -0.157260  0.478910 -0.841918  0.237495  1.773958      0      1     1   \n",
       "2    1.724733  0.764066 -1.403197 -1.074521  1.342748      0      1     1   \n",
       "3    0.728383  0.935159 -0.841918  0.499898 -0.899544      0      1     1   \n",
       "4    0.839089  0.364848  0.919336 -1.905464  0.739054      1      0     1   \n",
       "..        ...       ...       ...       ...       ...    ...    ...   ...   \n",
       "723  1.503322 -0.661712 -0.687083 -1.511859  0.394086      1      0     0   \n",
       "733 -1.153610 -1.346085 -2.041893  1.112172 -0.382092      1      0     0   \n",
       "739 -0.267966 -0.205463  0.164513  0.499898 -0.899544      0      1     1   \n",
       "843  0.506972  1.619532  0.512893 -1.074521 -0.899544      0      1     0   \n",
       "878 -0.046555 -0.661712 -1.132235 -1.599327  0.307844      0      1     1   \n",
       "\n",
       "     cp_1  cp_2  ...  slope_2  ca_0  ca_1  ca_2  ca_3  ca_4  thal_0  thal_1  \\\n",
       "0       0     0  ...        1     0     0     1     0     0       0       0   \n",
       "1       0     0  ...        0     1     0     0     0     0       0       0   \n",
       "2       0     0  ...        0     1     0     0     0     0       0       0   \n",
       "3       0     0  ...        1     0     1     0     0     0       0       0   \n",
       "4       0     0  ...        0     0     0     0     1     0       0       0   \n",
       "..    ...   ...  ...      ...   ...   ...   ...   ...   ...     ...     ...   \n",
       "723     0     1  ...        0     1     0     0     0     0       0       0   \n",
       "733     0     1  ...        0     1     0     0     0     0       0       0   \n",
       "739     0     0  ...        1     0     1     0     0     0       0       0   \n",
       "843     0     0  ...        1     1     0     0     0     0       0       0   \n",
       "878     0     0  ...        0     0     1     0     0     0       0       0   \n",
       "\n",
       "     thal_2  thal_3  \n",
       "0         0       1  \n",
       "1         0       1  \n",
       "2         0       1  \n",
       "3         0       1  \n",
       "4         1       0  \n",
       "..      ...     ...  \n",
       "723       1       0  \n",
       "733       1       0  \n",
       "739       0       1  \n",
       "843       1       0  \n",
       "878       0       1  \n",
       "\n",
       "[302 rows x 30 columns]"
      ]
     },
     "execution_count": 30,
     "metadata": {},
     "output_type": "execute_result"
    }
   ],
   "source": [
    "input_variables"
   ]
  },
  {
   "cell_type": "code",
   "execution_count": 31,
   "id": "30028287",
   "metadata": {},
   "outputs": [
    {
     "data": {
      "text/plain": [
       "0      0\n",
       "1      0\n",
       "2      0\n",
       "3      0\n",
       "4      0\n",
       "      ..\n",
       "723    1\n",
       "733    1\n",
       "739    0\n",
       "843    0\n",
       "878    0\n",
       "Name: target, Length: 302, dtype: int64"
      ]
     },
     "execution_count": 31,
     "metadata": {},
     "output_type": "execute_result"
    }
   ],
   "source": [
    "target_variable"
   ]
  },
  {
   "cell_type": "code",
   "execution_count": 32,
   "id": "47432747",
   "metadata": {},
   "outputs": [],
   "source": [
    "# Splitting data into train test \n",
    "\n",
    "\n",
    "X_train,X_test,Y_train,Y_test=train_test_split(input_variables,target_variable,test_size=0.2,random_state=40)"
   ]
  },
  {
   "cell_type": "code",
   "execution_count": 33,
   "id": "11fd0bad",
   "metadata": {},
   "outputs": [
    {
     "name": "stdout",
     "output_type": "stream",
     "text": [
      "(302, 30) (241, 30) (61, 30)\n"
     ]
    }
   ],
   "source": [
    "print(input_variables.shape,X_train.shape,X_test.shape)"
   ]
  },
  {
   "cell_type": "markdown",
   "id": "bdf5794b",
   "metadata": {},
   "source": [
    "### APPLYING LOGISTIC REGRESSION "
   ]
  },
  {
   "cell_type": "code",
   "execution_count": 34,
   "id": "7c798597",
   "metadata": {},
   "outputs": [
    {
     "data": {
      "text/plain": [
       "LogisticRegression()"
      ]
     },
     "execution_count": 34,
     "metadata": {},
     "output_type": "execute_result"
    }
   ],
   "source": [
    "reg=LogisticRegression()\n",
    "reg.fit(X_train,Y_train)\n"
   ]
  },
  {
   "cell_type": "markdown",
   "id": "ef24e500",
   "metadata": {},
   "source": [
    "### Confusion Matrix"
   ]
  },
  {
   "cell_type": "code",
   "execution_count": 35,
   "id": "690b5068",
   "metadata": {},
   "outputs": [
    {
     "data": {
      "text/plain": [
       "<AxesSubplot:>"
      ]
     },
     "execution_count": 35,
     "metadata": {},
     "output_type": "execute_result"
    },
    {
     "data": {
      "image/png": "[encoded data removed]",
      "text/plain": [
       "<Figure size 432x288 with 2 Axes>"
      ]
     },
     "metadata": {},
     "output_type": "display_data"
    }
   ],
   "source": [
    "\n",
    "Predict_1=reg.predict(X_test) # Predict_1 = Predicted results\n",
    "                              # Y_test= Actual results\n",
    "\n",
    "\n",
    "cm=confusion_matrix(Y_test,Predict_1)\n",
    "sns.heatmap(cm, annot=True,cmap='BuPu')"
   ]
  },
  {
   "cell_type": "markdown",
   "id": "6cfd4a71",
   "metadata": {},
   "source": [
    "The result of confusion matrix shows very good results it can be interpreted as there are 33 people that have no heart disease and are predicted true as no heart disease called as True positive and only one in predicted as wrong or false positive whereas there are 25 people who have heart disease and are predicted as true or called as true negative and only 2 are predicted as false negative"
   ]
  },
  {
   "cell_type": "code",
   "execution_count": 36,
   "id": "c75017cd",
   "metadata": {},
   "outputs": [
    {
     "name": "stdout",
     "output_type": "stream",
     "text": [
      "Accuracy On Train Data :  0.9508196721311475\n"
     ]
    }
   ],
   "source": [
    "train_da_accuracy=accuracy_score(Y_test,Predict_1)\n",
    "print(\"Accuracy On Train Data : \",train_da_accuracy)"
   ]
  },
  {
   "cell_type": "markdown",
   "id": "34adeba2",
   "metadata": {},
   "source": [
    "## Classification Report"
   ]
  },
  {
   "cell_type": "code",
   "execution_count": 37,
   "id": "a3227c0a",
   "metadata": {},
   "outputs": [
    {
     "name": "stdout",
     "output_type": "stream",
     "text": [
      "              precision    recall  f1-score   support\n",
      "\n",
      "           0       0.94      0.97      0.96        34\n",
      "           1       0.96      0.93      0.94        27\n",
      "\n",
      "    accuracy                           0.95        61\n",
      "   macro avg       0.95      0.95      0.95        61\n",
      "weighted avg       0.95      0.95      0.95        61\n",
      "\n"
     ]
    }
   ],
   "source": [
    "from sklearn.metrics import classification_report\n",
    "print(classification_report(Y_test, Predict_1))"
   ]
  },
  {
   "cell_type": "markdown",
   "id": "d5b35396",
   "metadata": {},
   "source": [
    "## GradientBoostingClassifier MODEL"
   ]
  },
  {
   "cell_type": "code",
   "execution_count": 38,
   "id": "5f9f9169",
   "metadata": {},
   "outputs": [
    {
     "data": {
      "text/plain": [
       "GradientBoostingClassifier()"
      ]
     },
     "execution_count": 38,
     "metadata": {},
     "output_type": "execute_result"
    }
   ],
   "source": [
    "from sklearn.ensemble import GradientBoostingClassifier\n",
    "gbc_clf = GradientBoostingClassifier()\n",
    "gbc_clf.fit(X_train, Y_train)"
   ]
  },
  {
   "cell_type": "code",
   "execution_count": 39,
   "id": "ae2a3e72",
   "metadata": {},
   "outputs": [
    {
     "data": {
      "text/plain": [
       "0.8524590163934426"
      ]
     },
     "execution_count": 39,
     "metadata": {},
     "output_type": "execute_result"
    }
   ],
   "source": [
    "# Accuracy of gradient boosting\n",
    "y_pred_adb = gbc_clf.predict(X_test)\n",
    "bost=accuracy_score(Y_test,y_pred_adb)\n",
    "bost"
   ]
  },
  {
   "cell_type": "markdown",
   "id": "1fbe2b08",
   "metadata": {},
   "source": [
    "## GaussianNB MODEL"
   ]
  },
  {
   "cell_type": "code",
   "execution_count": 40,
   "id": "4e0cec1f",
   "metadata": {},
   "outputs": [
    {
     "data": {
      "text/plain": [
       "array([[32,  2],\n",
       "       [ 5, 22]], dtype=int64)"
      ]
     },
     "execution_count": 40,
     "metadata": {},
     "output_type": "execute_result"
    }
   ],
   "source": [
    "from sklearn.naive_bayes import GaussianNB\n",
    "#NB\n",
    "NB = GaussianNB()\n",
    "model5 = NB.fit(X_train, Y_train)\n",
    "prediction5 = model5.predict(X_test)\n",
    "cm5= confusion_matrix(Y_test, prediction5)\n",
    "cm5"
   ]
  },
  {
   "cell_type": "code",
   "execution_count": 41,
   "id": "6bfaa27e",
   "metadata": {},
   "outputs": [
    {
     "data": {
      "text/plain": [
       "0.8852459016393442"
      ]
     },
     "execution_count": 41,
     "metadata": {},
     "output_type": "execute_result"
    }
   ],
   "source": [
    "# Accuracy of model\n",
    "gauss=accuracy_score(Y_test, prediction5)\n",
    "gauss"
   ]
  },
  {
   "cell_type": "markdown",
   "id": "8bb022a6",
   "metadata": {},
   "source": [
    "## KFold MODEL"
   ]
  },
  {
   "cell_type": "code",
   "execution_count": 42,
   "id": "4e89c09a",
   "metadata": {},
   "outputs": [
    {
     "data": {
      "text/plain": [
       "array([[29,  5],\n",
       "       [ 3, 24]], dtype=int64)"
      ]
     },
     "execution_count": 42,
     "metadata": {},
     "output_type": "execute_result"
    }
   ],
   "source": [
    "from sklearn.model_selection import KFold\n",
    "from sklearn.model_selection import cross_val_score\n",
    "from sklearn.svm import SVC\n",
    "\n",
    "svm=SVC()\n",
    "model4=svm.fit(X_train,Y_train)\n",
    "prediction4=model4.predict(X_test)\n",
    "cm4= confusion_matrix(Y_test,prediction4)\n",
    "cm4"
   ]
  },
  {
   "cell_type": "code",
   "execution_count": 43,
   "id": "f0ece138",
   "metadata": {},
   "outputs": [
    {
     "data": {
      "text/plain": [
       "0.8688524590163934"
      ]
     },
     "execution_count": 43,
     "metadata": {},
     "output_type": "execute_result"
    }
   ],
   "source": [
    "#accuracy\n",
    "kfold=accuracy_score(Y_test, prediction4)\n",
    "kfold"
   ]
  },
  {
   "cell_type": "markdown",
   "id": "5cb4be64",
   "metadata": {},
   "source": [
    "## RANDOM FOREST MODEL"
   ]
  },
  {
   "cell_type": "code",
   "execution_count": 44,
   "id": "5983c3cd",
   "metadata": {},
   "outputs": [
    {
     "data": {
      "text/plain": [
       "array([[32,  2],\n",
       "       [ 3, 24]], dtype=int64)"
      ]
     },
     "execution_count": 44,
     "metadata": {},
     "output_type": "execute_result"
    }
   ],
   "source": [
    "from sklearn.ensemble import RandomForestClassifier\n",
    "#RandomForest\n",
    "rfc=RandomForestClassifier()\n",
    "model_2 = rfc.fit(X_train, Y_train)\n",
    "prediction_2 = model_2.predict(X_test)\n",
    "confusion_matrix(Y_test, prediction_2)"
   ]
  },
  {
   "cell_type": "code",
   "execution_count": 45,
   "id": "de42203a",
   "metadata": {},
   "outputs": [
    {
     "data": {
      "text/plain": [
       "0.9180327868852459"
      ]
     },
     "execution_count": 45,
     "metadata": {},
     "output_type": "execute_result"
    }
   ],
   "source": [
    "rand=accuracy_score(Y_test, prediction_2)\n",
    "rand"
   ]
  },
  {
   "cell_type": "code",
   "execution_count": 46,
   "id": "fac501e5",
   "metadata": {},
   "outputs": [
    {
     "name": "stdout",
     "output_type": "stream",
     "text": [
      "              precision    recall  f1-score   support\n",
      "\n",
      "           0       0.91      0.94      0.93        34\n",
      "           1       0.92      0.89      0.91        27\n",
      "\n",
      "    accuracy                           0.92        61\n",
      "   macro avg       0.92      0.92      0.92        61\n",
      "weighted avg       0.92      0.92      0.92        61\n",
      "\n"
     ]
    }
   ],
   "source": [
    "# Classification report\n",
    "\n",
    "print(classification_report(Y_test, prediction_2))"
   ]
  },
  {
   "cell_type": "markdown",
   "id": "85774d07",
   "metadata": {},
   "source": [
    "##  ACCURACY OF ALL  MODELS IS SUMMARIZED AS:"
   ]
  },
  {
   "cell_type": "code",
   "execution_count": 47,
   "id": "d48100bc",
   "metadata": {},
   "outputs": [
    {
     "name": "stdout",
     "output_type": "stream",
     "text": [
      "LOGISTIC MODEL 95%\n",
      "RANDOM FOREST MODEL 92%\n",
      "KFold MODEL 87%\n",
      "GaussianNB MODEL 89%\n",
      "GradientBoostingClassifier MODEL 85%\n"
     ]
    }
   ],
   "source": [
    "\n",
    "print (\"LOGISTIC MODEL\",\"{:.0%}\".format(train_da_accuracy))\n",
    "print(\"RANDOM FOREST MODEL\",\"{:.0%}\".format(rand))\n",
    "print(\"KFold MODEL\",\"{:.0%}\".format(kfold))\n",
    "print(\"GaussianNB MODEL\",\"{:.0%}\".format(gauss))\n",
    "print(\"GradientBoostingClassifier MODEL\",\"{:.0%}\".format(bost))"
   ]
  },
  {
   "cell_type": "markdown",
   "id": "cd94ce02",
   "metadata": {},
   "source": [
    "Logistic model gives highest accuracy among all , hence it is the best one "
   ]
  },
  {
   "cell_type": "code",
   "execution_count": null,
   "id": "c67f25b8",
   "metadata": {},
   "outputs": [],
   "source": []
  }
 ],
 "metadata": {
  "kernelspec": {
   "display_name": "Python 3",
   "language": "python",
   "name": "python3"
  },
  "language_info": {
   "codemirror_mode": {
    "name": "ipython",
    "version": 3
   },
   "file_extension": ".py",
   "mimetype": "text/x-python",
   "name": "python",
   "nbconvert_exporter": "python",
   "pygments_lexer": "ipython3",
   "version": "3.8.8"
  }
 },
 "nbformat": 4,
 "nbformat_minor": 5
}
